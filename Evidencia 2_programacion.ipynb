{
  "nbformat": 4,
  "nbformat_minor": 0,
  "metadata": {
    "colab": {
      "provenance": []
    },
    "kernelspec": {
      "name": "python3",
      "display_name": "Python 3"
    },
    "language_info": {
      "name": "python"
    }
  },
  "cells": [
    {
      "cell_type": "code",
      "execution_count": null,
      "metadata": {
        "id": "5FKxrqKv2x0_"
      },
      "outputs": [],
      "source": [
        "class Persona:\n",
        "    def __init__(self, nombre, edad):\n",
        "        self._nombre = nombre\n",
        "        self._edad = edad\n",
        "\n",
        "    @property\n",
        "    def nombre(self):\n",
        "        return self._nombre\n",
        "\n",
        "    @nombre.setter\n",
        "    def nombre(self, nuevo_nombre):\n",
        "        self._nombre = nuevo_nombre\n",
        "\n",
        "    @property\n",
        "    def edad(self):\n",
        "        return self._edad\n",
        "\n",
        "    @edad.setter\n",
        "    def edad(self, nueva_edad):\n",
        "        if nueva_edad >= 0:\n",
        "            self._edad = nueva_edad\n",
        "        else:\n",
        "            print(\"La edad no puede ser negativa.\")\n",
        "\n",
        "    def presentarse(self):\n",
        "        print(f\"¡Hola! Mi nombre es {self._nombre} y tengo {self._edad} años.\")\n",
        "\n",
        "# Demostración de uso\n",
        "if __name__ == \"__main__\":\n",
        "    # Crear una instancia de la clase Persona\n",
        "    persona1 = Persona(nombre=\"Juan\", edad=25)\n",
        "\n",
        "    # Acceder a los atributos y llamar al método\n",
        "    print(f\"Nombre: {persona1.nombre}\")\n",
        "    print(f\"Edad: {persona1.edad}\")\n",
        "    persona1.presentarse()\n",
        "\n",
        "    # Modificar atributos usando las propiedades\n",
        "    persona1.nombre = \"Carlos\"\n",
        "    persona1.edad = 30\n",
        "\n",
        "    # Mostrar la información actualizada\n",
        "    print(\"\\nDespués de la actualización:\")\n",
        "    print(f\"Nombre: {persona1.nombre}\")\n",
        "    print(f\"Edad: {persona1.edad}\")\n",
        "    persona1.presentarse()\n"
      ]
    }
  ]
}